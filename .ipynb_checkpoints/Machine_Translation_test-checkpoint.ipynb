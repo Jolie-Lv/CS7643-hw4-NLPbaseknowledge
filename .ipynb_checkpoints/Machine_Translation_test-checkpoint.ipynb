{
 "cells": [
  {
   "cell_type": "markdown",
   "metadata": {
    "collapsed": true,
    "id": "G8z3lQMTBG9V"
   },
   "source": [
    "# Machine Translation with Seq2Seq and Transformers\n",
    "In this exercise you will implement a [Sequence to Sequence(Seq2Seq)](https://arxiv.org/abs/1703.03906) and a [Transformer](https://arxiv.org/pdf/1706.03762.pdf) model and use them to perform machine translation.\n",
    "\n",
    "**A quick note: if you receive the following TypeError \"super(type, obj): obj must be an instance or subtype of type\", try re-importing that part or restarting your kernel and re-running all cells.** Once you have finished making changes to the model constuctor, you can avoid this issue by commenting out all of the model instantiations after the first (e.g. lines starting with \"model = TransformerTranslator(*args, **kwargs)\")."
   ]
  },
  {
   "cell_type": "code",
   "execution_count": 1,
   "metadata": {
    "id": "qLk0ai8oBG9Z"
   },
   "outputs": [],
   "source": [
    "import numpy as np\n",
    "import csv\n",
    "import torch\n",
    "\n",
    "# for auto-reloading external modules\n",
    "# see http://stackoverflow.com/questions/1907993/autoreload-of-modules-in-ipython\n",
    "%load_ext autoreload\n",
    "%autoreload 2"
   ]
  },
  {
   "cell_type": "markdown",
   "metadata": {
    "id": "vSWb_Z_ABG9b"
   },
   "source": [
    "# ** 1: Introduction**\n",
    "\n",
    "## Multi30K: Multilingual English-German Image Descriptions\n",
    "\n",
    "[Multi30K](https://github.com/multi30k/dataset) is a dataset for machine translation tasks. It is a multilingual corpus containing English sentences and their German translation. In total it contains 31014 sentences(29000 for training, 1014 for validation, and 1000 for testing).\n",
    "As one example:\n",
    "\n",
    "En: `Two young, White males are outside near many bushes.`\n",
    "\n",
    "De: `Zwei junge weiße Männer sind im Freien in der Nähe vieler Büsche.`\n",
    "\n",
    "You can read more info about the dataset [here](https://arxiv.org/abs/1605.00459). The following parts of this assignment will be based on this dataset.\n",
    "\n",
    "## TorchText: A PyTorch Toolkit for Text Dataset and NLP Tasks\n",
    "[TorchText](https://github.com/pytorch/text) is a PyTorch package that consists of data processing utilities and popular datasets for natural language. The key idea of TorchText is that datasets can be organized in *Field*, *TralsationDataset*, and *BucketIterator* classes. They serve to help with data splitting and loading, token encoding, sequence padding, etc. You don't need to know about how TorchText works in detail, but you might want to know about why those classes are needed and what operations are necessary for machine translation. These knowledge can be migrated to all sequential data modeling. In the following parts, we will provide you with some code to help you understand.\n",
    "\n",
    " You can refer to torchtext's documentation(v0.6.0) [here](https://pytorch.org/text/).\n",
    "\n",
    "## Spacy\n",
    "Spacy is package designed for tokenization in many languages. Tokenization is a process of splitting raw text data into lists of tokens that can be further processed. Since TorchText only provides tokenizer for English, we will be using Spacy for our assignment. \n",
    "\n",
    "\n",
    "**Notice: For the following assignment, we strongly recommend you to work in a virtual python environment. We recommend Anaconda, a powerful environment control tool. You can download it [here](https://www.anaconda.com/products/individual)**."
   ]
  },
  {
   "cell_type": "markdown",
   "metadata": {
    "id": "D2w_idduBG9c"
   },
   "source": [
    "## ** 1.1: Prerequisites**\n",
    "Before you start this assignment, you need to have all required packages installed either on the terminal you are using, or in the virtual environment. Please make sure you have the following package installed:\n",
    "\n",
    "`PyTorch, TorchText, Spacy, Tqdm, Numpy`\n",
    "\n",
    "You can first check using either `pip freeze` in terminal or `conda list` in conda environment. Then run the following code block to make sure they can be imported."
   ]
  },
  {
   "cell_type": "code",
   "execution_count": 2,
   "metadata": {
    "id": "NkzjNLA9BG9c",
    "tags": []
   },
   "outputs": [],
   "source": [
    "# Just run this block. Please do not modify the following code.\n",
    "import math\n",
    "import time\n",
    "\n",
    "# Pytorch package\n",
    "import torch\n",
    "import torch.nn as nn\n",
    "import torch.optim as optim\n",
    "\n",
    "# Torchtest package\n",
    "from torchtext.datasets import Multi30k\n",
    "from torchtext.data import Field, BucketIterator\n",
    "\n",
    "# Tqdm progress bar\n",
    "from tqdm import tqdm_notebook, tqdm\n",
    "\n",
    "# Code provide to you for training and evaluation\n",
    "from utils import train, evaluate, set_seed_nb, unit_test_values"
   ]
  },
  {
   "cell_type": "markdown",
   "metadata": {
    "id": "MsZpiiCyBG9d"
   },
   "source": [
    "Once you properly import the above packages, you can proceed to download Spacy English and German tokenizers by running the following command in your **terminal**. They will take some time.\n",
    "\n",
    "`python -m spacy download en`\n",
    "\n",
    "`python -m spacy download de`"
   ]
  },
  {
   "cell_type": "markdown",
   "metadata": {
    "id": "tVD91I-jBG9d"
   },
   "source": [
    "Now lets check your GPU availability and load some sanity checkers. By default you should be using your gpu for this assignment if you have one available."
   ]
  },
  {
   "cell_type": "code",
   "execution_count": 3,
   "metadata": {
    "id": "UgHSWWwgBG9e",
    "tags": []
   },
   "outputs": [
    {
     "name": "stdout",
     "output_type": "stream",
     "text": [
      "You are using device: cpu\n"
     ]
    }
   ],
   "source": [
    "# Check device availability\n",
    "device = torch.device('cuda' if torch.cuda.is_available() else 'cpu')\n",
    "print(\"You are using device: %s\" % device)"
   ]
  },
  {
   "cell_type": "code",
   "execution_count": 4,
   "metadata": {
    "id": "S7Sba2oKBG9e"
   },
   "outputs": [],
   "source": [
    "# load checkers\n",
    "d1 = torch.load('./data/d1.pt')\n",
    "d2 = torch.load('./data/d2.pt')\n",
    "d3 = torch.load('./data/d3.pt')\n",
    "d4 = torch.load('./data/d4.pt')"
   ]
  },
  {
   "cell_type": "markdown",
   "metadata": {
    "id": "nGgYMaL7BG9e"
   },
   "source": [
    "## **1.2: Preprocess Data**\n",
    "With TorchText and Spacy tokenizers ready, you can now prepare the data using *TorchText* objects. Just run the following code blocks. Read the comment and try to understand what they are for."
   ]
  },
  {
   "cell_type": "code",
   "execution_count": 5,
   "metadata": {
    "id": "zVGHVAnMBG9f",
    "tags": []
   },
   "outputs": [
    {
     "name": "stderr",
     "output_type": "stream",
     "text": [
      "c:\\users\\lu yinwen\\appdata\\local\\programs\\python\\python36\\lib\\site-packages\\torchtext\\data\\field.py:150: UserWarning: Field class will be retired soon and moved to torchtext.legacy. Please see the most recent release notes for further information.\n",
      "  warnings.warn('{} class will be retired soon and moved to torchtext.legacy. Please see the most recent release notes for further information.'.format(self.__class__.__name__), UserWarning)\n",
      "c:\\users\\lu yinwen\\appdata\\local\\programs\\python\\python36\\lib\\site-packages\\torchtext\\data\\field.py:150: UserWarning: Field class will be retired soon and moved to torchtext.legacy. Please see the most recent release notes for further information.\n",
      "  warnings.warn('{} class will be retired soon and moved to torchtext.legacy. Please see the most recent release notes for further information.'.format(self.__class__.__name__), UserWarning)\n",
      "c:\\users\\lu yinwen\\appdata\\local\\programs\\python\\python36\\lib\\site-packages\\torchtext\\data\\example.py:78: UserWarning: Example class will be retired soon and moved to torchtext.legacy. Please see the most recent release notes for further information.\n",
      "  warnings.warn('Example class will be retired soon and moved to torchtext.legacy. Please see the most recent release notes for further information.', UserWarning)\n"
     ]
    }
   ],
   "source": [
    "# You don't need to modify any code in this block\n",
    "\n",
    "# Define the maximum length of the sentence. Shorter sentences will be padded to that length and longer sentences will be croped. Given that the average length of the sentence in the corpus is around 13, we can set it to 20\n",
    "MAX_LEN = 20\n",
    "\n",
    "# Define the source and target language\n",
    "SRC = Field(tokenize = \"spacy\",\n",
    "            tokenizer_language=\"de\",\n",
    "            init_token = '<sos>',\n",
    "            eos_token = '<eos>',\n",
    "            fix_length = MAX_LEN,\n",
    "            lower = True)\n",
    "\n",
    "TRG = Field(tokenize = \"spacy\",\n",
    "            tokenizer_language=\"en\",\n",
    "            init_token = '<sos>',\n",
    "            eos_token = '<eos>',\n",
    "            fix_length = MAX_LEN,\n",
    "            lower = True)\n",
    "\n",
    "# Download and split the data. It should take some time\n",
    "train_data, valid_data, test_data = Multi30k.splits(exts = ('.de', '.en'),\n",
    "                                                    fields = (SRC, TRG))"
   ]
  },
  {
   "cell_type": "code",
   "execution_count": 6,
   "metadata": {
    "id": "RRtvlbgkBG9f"
   },
   "outputs": [
    {
     "name": "stderr",
     "output_type": "stream",
     "text": [
      "c:\\users\\lu yinwen\\appdata\\local\\programs\\python\\python36\\lib\\site-packages\\torchtext\\data\\iterator.py:48: UserWarning: BucketIterator class will be retired soon and moved to torchtext.legacy. Please see the most recent release notes for further information.\n",
      "  warnings.warn('{} class will be retired soon and moved to torchtext.legacy. Please see the most recent release notes for further information.'.format(self.__class__.__name__), UserWarning)\n"
     ]
    }
   ],
   "source": [
    "# Define Batchsize\n",
    "BATCH_SIZE = 128\n",
    "\n",
    "# Build the vocabulary associated with each language\n",
    "SRC.build_vocab(train_data, min_freq = 2)\n",
    "TRG.build_vocab(train_data, min_freq = 2)\n",
    "\n",
    "# Get the padding index to be ignored later in loss calculation\n",
    "PAD_IDX = TRG.vocab.stoi['<pad>']\n",
    "\n",
    "# Get data-loaders using BucketIterator\n",
    "train_loader, valid_loader, test_loader = BucketIterator.splits(\n",
    "    (train_data, valid_data, test_data),\n",
    "    batch_size = BATCH_SIZE, device = device)\n",
    "\n",
    "# Get the input and the output sizes for model\n",
    "input_size = len(SRC.vocab)\n",
    "output_size = len(TRG.vocab)"
   ]
  },
  {
   "cell_type": "markdown",
   "metadata": {
    "id": "tNTvBHOVBG9f"
   },
   "source": [
    "# **2: Implement Vanilla RNN and LSTM**\n",
    "In this section, you will need to implement a Vanilla RNN and an LSTM unit using PyTorch Linear layers and nn.Parameter. This is designed to help you to understand how they work behind the scene. The code you will be working with is in *LSTM.py* and *RNN.py* under *naive* folder. Please refer to instructions among this notebook and those files. \n"
   ]
  },
  {
   "cell_type": "markdown",
   "metadata": {
    "id": "xsDkodu5BG9g"
   },
   "source": [
    "## **2.1: Implement an RNN Unit**\n",
    "In this section you will be using PyTorch Linear layers and activations to implement a vanilla RNN unit. You are only implementing an RNN cell unit over one time step! The test case reflects this by having only one sequence. Please refer to the following structure and complete the code in RNN.py:\n",
    "<center><img src=\"imgs/RNN.png\" width=\"300\" align=\"center\"/></center>\n",
    "Run the following block to check your implementation"
   ]
  },
  {
   "cell_type": "code",
   "execution_count": 7,
   "metadata": {
    "id": "VOvEj1utBG9h",
    "tags": []
   },
   "outputs": [
    {
     "name": "stderr",
     "output_type": "stream",
     "text": [
      "C:\\Users\\Lu Yinwen\\Desktop\\hw4-code\\models\\naive\\RNN.py:66: UserWarning: Implicit dimension choice for log_softmax has been deprecated. Change the call to include dim=X as an argument.\n",
      "  output[t] = self.softmax(self.wy(cat))\n"
     ]
    },
    {
     "name": "stdout",
     "output_type": "stream",
     "text": [
      "Close to out:  True\n",
      "Close to hidden:  True\n"
     ]
    }
   ],
   "source": [
    "from models.naive.RNN import VanillaRNN\n",
    "\n",
    "set_seed_nb()\n",
    "x1,x2 = (1,4), (-1,2)\n",
    "h1,h2 = (-1,2,0,4), (0,1,3,-1)\n",
    "batch = 4\n",
    "x = torch.FloatTensor(np.linspace(x1,x2,batch))\n",
    "h = torch.FloatTensor(np.linspace(h1,h2,batch))\n",
    "rnn = VanillaRNN(x.shape[-1], h.shape[-1], 3)\n",
    "out, hidden = rnn.forward(x,h)\n",
    "\n",
    "expected_out, expected_hidden = unit_test_values('rnn')\n",
    "\n",
    "if out is not None:\n",
    "    print('Close to out: ', expected_out.allclose(out, atol=1e-4))\n",
    "    print('Close to hidden: ', expected_hidden.allclose(hidden, atol=1e-4))\n",
    "else:\n",
    "    print(\"NOT IMPLEMENTED\")"
   ]
  },
  {
   "cell_type": "markdown",
   "metadata": {
    "id": "6X7WEH3fBG9h"
   },
   "source": [
    "## **2.2: Implement an LSTM Unit**\n",
    "In this section you will be using PyTorch nn.Parameter and activations to implement an LSTM unit. You can simply translate the following equations using nn.Parameter and PyTorch activation functions to build an LSTM from scratch: \n",
    "\\begin{array}{ll} \\\\\n",
    "    i_t = \\sigma(W_{ii} x_t + b_{ii} + W_{hi} h_{t-1} + b_{hi}) \\\\\n",
    "    f_t = \\sigma(W_{if} x_t + b_{if} + W_{hf} h_{t-1} + b_{hf}) \\\\\n",
    "    g_t = \\tanh(W_{ig} x_t + b_{ig} + W_{hg} h_{t-1} + b_{hg}) \\\\\n",
    "    o_t = \\sigma(W_{io} x_t + b_{io} + W_{ho} h_{t-1} + b_{ho}) \\\\\n",
    "    c_t = f_t \\odot c_{t-1} + i_t \\odot g_t \\\\\n",
    "    h_t = o_t \\odot \\tanh(c_t) \\\\\n",
    "\\end{array}\n",
    "\n",
    "Here's a great visualization of the above equation from [Colah's blog](https://colah.github.io/posts/2015-08-Understanding-LSTMs/) to help you understand LSTM unit. You can also read more about it from that blog.\n",
    "<center><img src=\"imgs/lstm.png\" width=\"400\" height=\"300\" align=\"center\"/></center>\n",
    "\n",
    "If you want to see nn.Parameter in example, check out this [tutorial](https://pytorch.org/tutorials/beginner/nn_tutorial/) from PyTorch. Run the following block to check your implementation.\n",
    "\n",
    "Note that in this case we are implementing a full loop with LSTM, iterating over each time step. The test cases reflect this as there are multiple sequences."
   ]
  },
  {
   "cell_type": "code",
   "execution_count": 8,
   "metadata": {
    "id": "d_49wfiuBG9j",
    "tags": []
   },
   "outputs": [
    {
     "name": "stdout",
     "output_type": "stream",
     "text": [
      "Close to h_t:  True\n",
      "Close to c_t;  True\n"
     ]
    }
   ],
   "source": [
    "from models.naive.LSTM import LSTM\n",
    "\n",
    "set_seed_nb()\n",
    "x1,x2 = np.mgrid[-1:3:3j, -1:4:2j]\n",
    "h1,h2 = np.mgrid[-2:2:3j, 1:3:4j]\n",
    "batch = 4\n",
    "x = torch.FloatTensor(np.linspace(x1,x2,batch))\n",
    "h = torch.FloatTensor(np.linspace(h1,h2,batch))\n",
    "lstm = LSTM(x.shape[-1], h.shape[-1])\n",
    "h_t, c_t = lstm.forward(x)\n",
    "\n",
    "expected_ht, expected_ct = unit_test_values('lstm')\n",
    "\n",
    "if h_t is not None:\n",
    "    print('Close to h_t: ', expected_ht.allclose(h_t, atol=1e-4))\n",
    "    print('Close to c_t; ', expected_ct.allclose(c_t, atol=1e-4))\n",
    "else:\n",
    "    print(\"NOT IMPLEMENTED\")"
   ]
  },
  {
   "cell_type": "markdown",
   "metadata": {
    "id": "m7-HKTd6BG9k"
   },
   "source": [
    "# **3: Train a Seq2Seq Model**\n",
    "In this section, you will be working on implementing a simple Seq2Seq model. You will first implement an Encoder and a Decoder, and then join them together with a Seq2Seq architecture. You will need to complete the code in *Decoder.py*, *Encoder.py*, and *Seq2Seq.py* under *seq2seq* folder. Please refer to the instructions in those files."
   ]
  },
  {
   "cell_type": "markdown",
   "metadata": {
    "id": "I7mygObbBG9l"
   },
   "source": [
    "## **3.1: Implement the Encoder**\n",
    "In this section you will be implementing an RNN/LSTM based encoder to model Enligsh texts. Please refer to the instructions in *seq2seq/Encoder.py*. Run the following block to check your implementation. "
   ]
  },
  {
   "cell_type": "code",
   "execution_count": 9,
   "metadata": {
    "id": "oio-NPF0BG9l"
   },
   "outputs": [
    {
     "name": "stdout",
     "output_type": "stream",
     "text": [
      "Close to out:  True\n",
      "Close to hidden:  True\n"
     ]
    }
   ],
   "source": [
    "from models.seq2seq.Encoder import Encoder\n",
    "\n",
    "set_seed_nb()\n",
    "i, n, h = 10, 4, 2\n",
    "\n",
    "encoder = Encoder(i, n, h, h)\n",
    "x_array = np.random.rand(5,1) * 10\n",
    "x = torch.LongTensor(x_array)\n",
    "out, hidden = encoder.forward(x)\n",
    "\n",
    "expected_out, expected_hidden = unit_test_values('encoder')\n",
    "\n",
    "print('Close to out: ', expected_out.allclose(out, atol=1e-4))\n",
    "print('Close to hidden: ', expected_hidden.allclose(hidden, atol=1e-4))"
   ]
  },
  {
   "cell_type": "markdown",
   "metadata": {
    "id": "7BncWGdiBG9m"
   },
   "source": [
    "## **3.2: Implement the Decoder**\n",
    "In this section you will be implementing an RNN/LSTM based decoder to model German texts. Please refer to the instructions in *seq2seq/Decoder.py*. Run the following block to check your implementation. "
   ]
  },
  {
   "cell_type": "code",
   "execution_count": 10,
   "metadata": {
    "id": "1_cMCla0BG9m"
   },
   "outputs": [
    {
     "name": "stdout",
     "output_type": "stream",
     "text": [
      "Close to out:  True\n",
      "Close to hidden:  True\n"
     ]
    }
   ],
   "source": [
    "from models.seq2seq.Decoder import Decoder\n",
    "\n",
    "set_seed_nb()\n",
    "i, n, h =  10, 2, 2\n",
    "decoder = Decoder(h, n, n, i)\n",
    "x_array = np.random.rand(5, 1) * 10\n",
    "x = torch.LongTensor(x_array)\n",
    "_, enc_hidden = unit_test_values('encoder')\n",
    "out, hidden = decoder.forward(x,enc_hidden)\n",
    "\n",
    "expected_out, expected_hidden = unit_test_values('decoder')\n",
    "# print(out.shape)\n",
    "# print(expected_out.shape)\n",
    "\n",
    "print('Close to out: ', expected_out.allclose(out, atol=1e-4))\n",
    "print('Close to hidden: ', expected_hidden.allclose(hidden, atol=1e-4))"
   ]
  },
  {
   "cell_type": "markdown",
   "metadata": {
    "id": "edOA3_zVBG9m"
   },
   "source": [
    "## **3.3: Implement the Seq2Seq**\n",
    "In this section you will be implementing the Seq2Seq model that utilizes the Encoder and Decoder you implemented. Please refer to the instructions in *seq2seq/Seq2Seq.py*. Run the following block to check your implementation. "
   ]
  },
  {
   "cell_type": "code",
   "execution_count": 11,
   "metadata": {
    "id": "_k8_PuM8BG9m"
   },
   "outputs": [
    {
     "name": "stdout",
     "output_type": "stream",
     "text": [
      "Close to out:  True\n"
     ]
    }
   ],
   "source": [
    "from models.seq2seq.Seq2Seq import Seq2Seq\n",
    "\n",
    "set_seed_nb()\n",
    "embedding_size = 32\n",
    "hidden_size = 32\n",
    "input_size = 8\n",
    "output_size = 8\n",
    "batch, seq = 1, 2\n",
    "\n",
    "encoder = Encoder(input_size, embedding_size, hidden_size, hidden_size)\n",
    "decoder = Decoder(embedding_size, hidden_size, hidden_size, output_size)\n",
    "\n",
    "seq2seq = Seq2Seq(encoder, decoder, 'cpu')\n",
    "x_array = np.random.rand(batch, seq) * 10\n",
    "x = torch.LongTensor(x_array)\n",
    "out = seq2seq.forward(x)\n",
    "\n",
    "expected_out = unit_test_values('seq2seq')\n",
    "print('Close to out: ', expected_out.allclose(out, atol=1e-4))"
   ]
  },
  {
   "cell_type": "markdown",
   "metadata": {
    "id": "xXVCAISbBG9n"
   },
   "source": [
    "## **3.4: Train your Seq2Seq model**\n",
    "Now its time to combine what we have and train a Seq2Seq translator. We provided you with some training code and you can simply run them to see how your translator works. If you implemented everything correctly, you should see some meaningful translation in the output. You can modify the hyperparameters to improve the results. You can also tune the BATCH_SIZE in section 1.2."
   ]
  },
  {
   "cell_type": "code",
   "execution_count": 12,
   "metadata": {
    "id": "xvQJ2FEVBG9o"
   },
   "outputs": [],
   "source": [
    "# Hyperparameters. You are welcome to modify these\n",
    "encoder_emb_size = 64\n",
    "encoder_hidden_size = 128\n",
    "encoder_dropout = 0.3\n",
    "\n",
    "decoder_emb_size = 64\n",
    "decoder_hidden_size = 128\n",
    "decoder_dropout = 0.3\n",
    "\n",
    "learning_rate = 1e-3\n",
    "model_type = \"RNN\"\n",
    "\n",
    "EPOCHS = 100\n",
    "\n",
    "#input size and output size\n",
    "input_size = len(SRC.vocab)\n",
    "output_size = len(TRG.vocab)"
   ]
  },
  {
   "cell_type": "code",
   "execution_count": 13,
   "metadata": {
    "id": "qlm9vww7BG9p"
   },
   "outputs": [],
   "source": [
    "# Declare models, optimizer, and loss function\n",
    "encoder = Encoder(input_size, encoder_emb_size, encoder_hidden_size, decoder_hidden_size, dropout = encoder_dropout, model_type = model_type)\n",
    "decoder = Decoder(decoder_emb_size, encoder_hidden_size, encoder_hidden_size, output_size, dropout = decoder_dropout, model_type = model_type)\n",
    "seq2seq_model = Seq2Seq(encoder, decoder, device)\n",
    "\n",
    "optimizer = optim.Adam(seq2seq_model.parameters(), lr = learning_rate)\n",
    "scheduler = torch.optim.lr_scheduler.ReduceLROnPlateau(optimizer)\n",
    "criterion = nn.CrossEntropyLoss(ignore_index=PAD_IDX)"
   ]
  },
  {
   "cell_type": "code",
   "execution_count": null,
   "metadata": {
    "id": "Hkhz_7W6BG9q"
   },
   "outputs": [
    {
     "name": "stdout",
     "output_type": "stream",
     "text": [
      "-----------------------------------\n",
      "Epoch 1\n",
      "-----------------------------------\n"
     ]
    },
    {
     "data": {
      "application/vnd.jupyter.widget-view+json": {
       "model_id": "5c41e09b94f84eca8c854033ee6b897d",
       "version_major": 2,
       "version_minor": 0
      },
      "text/plain": [
       "  0%|          | 0/227 [00:00<?, ?it/s]"
      ]
     },
     "metadata": {},
     "output_type": "display_data"
    },
    {
     "name": "stderr",
     "output_type": "stream",
     "text": [
      "c:\\users\\lu yinwen\\appdata\\local\\programs\\python\\python36\\lib\\site-packages\\torchtext\\data\\batch.py:23: UserWarning: Batch class will be retired soon and moved to torchtext.legacy. Please see the most recent release notes for further information.\n",
      "  warnings.warn('{} class will be retired soon and moved to torchtext.legacy. Please see the most recent release notes for further information.'.format(self.__class__.__name__), UserWarning)\n"
     ]
    },
    {
     "data": {
      "application/vnd.jupyter.widget-view+json": {
       "model_id": "df7bd60399084af0b6160fe327c0d636",
       "version_major": 2,
       "version_minor": 0
      },
      "text/plain": [
       "  0%|          | 0/8 [00:00<?, ?it/s]"
      ]
     },
     "metadata": {},
     "output_type": "display_data"
    },
    {
     "name": "stdout",
     "output_type": "stream",
     "text": [
      "Training Loss: 5.7691. Validation Loss: 5.1940. \n",
      "Training Perplexity: 320.2526. Validation Perplexity: 180.1843. \n",
      "-----------------------------------\n",
      "Epoch 2\n",
      "-----------------------------------\n"
     ]
    },
    {
     "data": {
      "application/vnd.jupyter.widget-view+json": {
       "model_id": "e4730a12a75647349ae95b20342874a1",
       "version_major": 2,
       "version_minor": 0
      },
      "text/plain": [
       "  0%|          | 0/227 [00:00<?, ?it/s]"
      ]
     },
     "metadata": {},
     "output_type": "display_data"
    },
    {
     "data": {
      "application/vnd.jupyter.widget-view+json": {
       "model_id": "18572bf894e4493083c480df3ab4439b",
       "version_major": 2,
       "version_minor": 0
      },
      "text/plain": [
       "  0%|          | 0/8 [00:00<?, ?it/s]"
      ]
     },
     "metadata": {},
     "output_type": "display_data"
    },
    {
     "name": "stdout",
     "output_type": "stream",
     "text": [
      "Training Loss: 5.2520. Validation Loss: 5.1536. \n",
      "Training Perplexity: 190.9406. Validation Perplexity: 173.0579. \n",
      "-----------------------------------\n",
      "Epoch 3\n",
      "-----------------------------------\n"
     ]
    },
    {
     "data": {
      "application/vnd.jupyter.widget-view+json": {
       "model_id": "bf17498b00dc4e92835b32e71d43c382",
       "version_major": 2,
       "version_minor": 0
      },
      "text/plain": [
       "  0%|          | 0/227 [00:00<?, ?it/s]"
      ]
     },
     "metadata": {},
     "output_type": "display_data"
    },
    {
     "data": {
      "application/vnd.jupyter.widget-view+json": {
       "model_id": "b824bcfd16e44eeaac5b23d58201b23e",
       "version_major": 2,
       "version_minor": 0
      },
      "text/plain": [
       "  0%|          | 0/8 [00:00<?, ?it/s]"
      ]
     },
     "metadata": {},
     "output_type": "display_data"
    },
    {
     "name": "stdout",
     "output_type": "stream",
     "text": [
      "Training Loss: 5.2250. Validation Loss: 5.1460. \n",
      "Training Perplexity: 185.8537. Validation Perplexity: 171.7446. \n",
      "-----------------------------------\n",
      "Epoch 4\n",
      "-----------------------------------\n"
     ]
    },
    {
     "data": {
      "application/vnd.jupyter.widget-view+json": {
       "model_id": "f0b56e5b0d1c4feb8e9cd5563eebdbba",
       "version_major": 2,
       "version_minor": 0
      },
      "text/plain": [
       "  0%|          | 0/227 [00:00<?, ?it/s]"
      ]
     },
     "metadata": {},
     "output_type": "display_data"
    },
    {
     "data": {
      "application/vnd.jupyter.widget-view+json": {
       "model_id": "2439116eded34a1a9d86cdd3fbffaf8a",
       "version_major": 2,
       "version_minor": 0
      },
      "text/plain": [
       "  0%|          | 0/8 [00:00<?, ?it/s]"
      ]
     },
     "metadata": {},
     "output_type": "display_data"
    },
    {
     "name": "stdout",
     "output_type": "stream",
     "text": [
      "Training Loss: 5.2130. Validation Loss: 5.1413. \n",
      "Training Perplexity: 183.6356. Validation Perplexity: 170.9415. \n",
      "-----------------------------------\n",
      "Epoch 5\n",
      "-----------------------------------\n"
     ]
    },
    {
     "data": {
      "application/vnd.jupyter.widget-view+json": {
       "model_id": "8245ba6dc50e4a858b4da48d792e3f08",
       "version_major": 2,
       "version_minor": 0
      },
      "text/plain": [
       "  0%|          | 0/227 [00:00<?, ?it/s]"
      ]
     },
     "metadata": {},
     "output_type": "display_data"
    },
    {
     "data": {
      "application/vnd.jupyter.widget-view+json": {
       "model_id": "ae5d542ef557490d9ccf377d12f6809c",
       "version_major": 2,
       "version_minor": 0
      },
      "text/plain": [
       "  0%|          | 0/8 [00:00<?, ?it/s]"
      ]
     },
     "metadata": {},
     "output_type": "display_data"
    },
    {
     "name": "stdout",
     "output_type": "stream",
     "text": [
      "Training Loss: 5.2053. Validation Loss: 5.1447. \n",
      "Training Perplexity: 182.2433. Validation Perplexity: 171.5130. \n",
      "-----------------------------------\n",
      "Epoch 6\n",
      "-----------------------------------\n"
     ]
    },
    {
     "data": {
      "application/vnd.jupyter.widget-view+json": {
       "model_id": "77842d1387794b34877d1aa9415b400f",
       "version_major": 2,
       "version_minor": 0
      },
      "text/plain": [
       "  0%|          | 0/227 [00:00<?, ?it/s]"
      ]
     },
     "metadata": {},
     "output_type": "display_data"
    },
    {
     "data": {
      "application/vnd.jupyter.widget-view+json": {
       "model_id": "8a31e6a8310043f2b4e2f7f23e69894d",
       "version_major": 2,
       "version_minor": 0
      },
      "text/plain": [
       "  0%|          | 0/8 [00:00<?, ?it/s]"
      ]
     },
     "metadata": {},
     "output_type": "display_data"
    },
    {
     "name": "stdout",
     "output_type": "stream",
     "text": [
      "Training Loss: 5.2027. Validation Loss: 5.1411. \n",
      "Training Perplexity: 181.7554. Validation Perplexity: 170.8968. \n",
      "-----------------------------------\n",
      "Epoch 7\n",
      "-----------------------------------\n"
     ]
    },
    {
     "data": {
      "application/vnd.jupyter.widget-view+json": {
       "model_id": "106ce7dc2af04ed3a9ea6b3df546c041",
       "version_major": 2,
       "version_minor": 0
      },
      "text/plain": [
       "  0%|          | 0/227 [00:00<?, ?it/s]"
      ]
     },
     "metadata": {},
     "output_type": "display_data"
    },
    {
     "data": {
      "application/vnd.jupyter.widget-view+json": {
       "model_id": "b66220e987a142d0b102d0dc13e263c8",
       "version_major": 2,
       "version_minor": 0
      },
      "text/plain": [
       "  0%|          | 0/8 [00:00<?, ?it/s]"
      ]
     },
     "metadata": {},
     "output_type": "display_data"
    },
    {
     "name": "stdout",
     "output_type": "stream",
     "text": [
      "Training Loss: 5.1960. Validation Loss: 5.1390. \n",
      "Training Perplexity: 180.5514. Validation Perplexity: 170.5420. \n",
      "-----------------------------------\n",
      "Epoch 8\n",
      "-----------------------------------\n"
     ]
    },
    {
     "data": {
      "application/vnd.jupyter.widget-view+json": {
       "model_id": "d23f70d426d048f8a5e1761a7c841418",
       "version_major": 2,
       "version_minor": 0
      },
      "text/plain": [
       "  0%|          | 0/227 [00:00<?, ?it/s]"
      ]
     },
     "metadata": {},
     "output_type": "display_data"
    },
    {
     "data": {
      "application/vnd.jupyter.widget-view+json": {
       "model_id": "7d2e1d28e4c446f1b1063f5a8d69b8a9",
       "version_major": 2,
       "version_minor": 0
      },
      "text/plain": [
       "  0%|          | 0/8 [00:00<?, ?it/s]"
      ]
     },
     "metadata": {},
     "output_type": "display_data"
    },
    {
     "name": "stdout",
     "output_type": "stream",
     "text": [
      "Training Loss: 5.1913. Validation Loss: 5.1442. \n",
      "Training Perplexity: 179.7017. Validation Perplexity: 171.4284. \n",
      "-----------------------------------\n",
      "Epoch 9\n",
      "-----------------------------------\n"
     ]
    },
    {
     "data": {
      "application/vnd.jupyter.widget-view+json": {
       "model_id": "732d1871943a49bbb9374318176ef35a",
       "version_major": 2,
       "version_minor": 0
      },
      "text/plain": [
       "  0%|          | 0/227 [00:00<?, ?it/s]"
      ]
     },
     "metadata": {},
     "output_type": "display_data"
    },
    {
     "data": {
      "application/vnd.jupyter.widget-view+json": {
       "model_id": "d5e988c178d34512bbdd001a1ce94b50",
       "version_major": 2,
       "version_minor": 0
      },
      "text/plain": [
       "  0%|          | 0/8 [00:00<?, ?it/s]"
      ]
     },
     "metadata": {},
     "output_type": "display_data"
    },
    {
     "name": "stdout",
     "output_type": "stream",
     "text": [
      "Training Loss: 5.1830. Validation Loss: 5.1424. \n",
      "Training Perplexity: 178.2092. Validation Perplexity: 171.1176. \n",
      "-----------------------------------\n",
      "Epoch 10\n",
      "-----------------------------------\n"
     ]
    },
    {
     "data": {
      "application/vnd.jupyter.widget-view+json": {
       "model_id": "158703722b8042a7bf3054fde796fded",
       "version_major": 2,
       "version_minor": 0
      },
      "text/plain": [
       "  0%|          | 0/227 [00:00<?, ?it/s]"
      ]
     },
     "metadata": {},
     "output_type": "display_data"
    },
    {
     "data": {
      "application/vnd.jupyter.widget-view+json": {
       "model_id": "b645984059a64776881f2788f3bfb369",
       "version_major": 2,
       "version_minor": 0
      },
      "text/plain": [
       "  0%|          | 0/8 [00:00<?, ?it/s]"
      ]
     },
     "metadata": {},
     "output_type": "display_data"
    },
    {
     "name": "stdout",
     "output_type": "stream",
     "text": [
      "Training Loss: 5.1783. Validation Loss: 5.1400. \n",
      "Training Perplexity: 177.3730. Validation Perplexity: 170.7074. \n",
      "-----------------------------------\n",
      "Epoch 11\n",
      "-----------------------------------\n"
     ]
    },
    {
     "data": {
      "application/vnd.jupyter.widget-view+json": {
       "model_id": "d55fce17225b4cdba0546b4e1ebc4263",
       "version_major": 2,
       "version_minor": 0
      },
      "text/plain": [
       "  0%|          | 0/227 [00:00<?, ?it/s]"
      ]
     },
     "metadata": {},
     "output_type": "display_data"
    },
    {
     "data": {
      "application/vnd.jupyter.widget-view+json": {
       "model_id": "e8eb9f9ca0ee44938b78855c89a11f8c",
       "version_major": 2,
       "version_minor": 0
      },
      "text/plain": [
       "  0%|          | 0/8 [00:00<?, ?it/s]"
      ]
     },
     "metadata": {},
     "output_type": "display_data"
    },
    {
     "name": "stdout",
     "output_type": "stream",
     "text": [
      "Training Loss: 5.1731. Validation Loss: 5.1447. \n",
      "Training Perplexity: 176.4597. Validation Perplexity: 171.5164. \n",
      "-----------------------------------\n",
      "Epoch 12\n",
      "-----------------------------------\n"
     ]
    },
    {
     "data": {
      "application/vnd.jupyter.widget-view+json": {
       "model_id": "76d27d7ab3aa447f81207bf0a434c482",
       "version_major": 2,
       "version_minor": 0
      },
      "text/plain": [
       "  0%|          | 0/227 [00:00<?, ?it/s]"
      ]
     },
     "metadata": {},
     "output_type": "display_data"
    },
    {
     "data": {
      "application/vnd.jupyter.widget-view+json": {
       "model_id": "e1e773fbda8c46e595b04db1b8ceb45a",
       "version_major": 2,
       "version_minor": 0
      },
      "text/plain": [
       "  0%|          | 0/8 [00:00<?, ?it/s]"
      ]
     },
     "metadata": {},
     "output_type": "display_data"
    },
    {
     "name": "stdout",
     "output_type": "stream",
     "text": [
      "Training Loss: 5.1696. Validation Loss: 5.1454. \n",
      "Training Perplexity: 175.8420. Validation Perplexity: 171.6338. \n",
      "-----------------------------------\n",
      "Epoch 13\n",
      "-----------------------------------\n"
     ]
    },
    {
     "data": {
      "application/vnd.jupyter.widget-view+json": {
       "model_id": "e16acd9395064de4b16133a1a64a7e9e",
       "version_major": 2,
       "version_minor": 0
      },
      "text/plain": [
       "  0%|          | 0/227 [00:00<?, ?it/s]"
      ]
     },
     "metadata": {},
     "output_type": "display_data"
    },
    {
     "data": {
      "application/vnd.jupyter.widget-view+json": {
       "model_id": "f80305be19c641539d895b4194cf6c2f",
       "version_major": 2,
       "version_minor": 0
      },
      "text/plain": [
       "  0%|          | 0/8 [00:00<?, ?it/s]"
      ]
     },
     "metadata": {},
     "output_type": "display_data"
    },
    {
     "name": "stdout",
     "output_type": "stream",
     "text": [
      "Training Loss: 5.1668. Validation Loss: 5.1440. \n",
      "Training Perplexity: 175.3538. Validation Perplexity: 171.3979. \n",
      "-----------------------------------\n",
      "Epoch 14\n",
      "-----------------------------------\n"
     ]
    },
    {
     "data": {
      "application/vnd.jupyter.widget-view+json": {
       "model_id": "2761d9104f1e45ceb127b1fad56fbba7",
       "version_major": 2,
       "version_minor": 0
      },
      "text/plain": [
       "  0%|          | 0/227 [00:00<?, ?it/s]"
      ]
     },
     "metadata": {},
     "output_type": "display_data"
    }
   ],
   "source": [
    "for epoch_idx in range(EPOCHS):\n",
    "    print(\"-----------------------------------\")\n",
    "    print(\"Epoch %d\" % (epoch_idx+1))\n",
    "    print(\"-----------------------------------\")\n",
    "    \n",
    "    train_loss, avg_train_loss = train(seq2seq_model, train_loader, optimizer, criterion)\n",
    "    scheduler.step(train_loss)\n",
    "\n",
    "    val_loss, avg_val_loss = evaluate(seq2seq_model, valid_loader, criterion)\n",
    "\n",
    "    avg_train_loss = avg_train_loss.item()\n",
    "    avg_val_loss = avg_val_loss.item()\n",
    "    print(\"Training Loss: %.4f. Validation Loss: %.4f. \" % (avg_train_loss, avg_val_loss))\n",
    "    print(\"Training Perplexity: %.4f. Validation Perplexity: %.4f. \" % (np.exp(avg_train_loss), np.exp(avg_val_loss)))"
   ]
  },
  {
   "cell_type": "markdown",
   "metadata": {
    "id": "nbr7ZCdcBG9q"
   },
   "source": [
    "# **4: Train a Transformer**\n",
    "\n",
    "We will be implementing a one-layer Transformer **encoder** which, similar to an RNN, can encode a sequence of inputs and produce a final output of possibility of tokens in target language. This is the architecture:\n",
    "\n",
    "<center><img src=\"imgs/encoder.png\" align=\"center\"/></center>\n",
    "\n",
    "\n",
    "You can refer to the [original paper](https://arxiv.org/pdf/1706.03762.pdf) for more details. Before implementing a translator, we'll make a transformer binary classifier on the CoLA dataset below.\n",
    " "
   ]
  },
  {
   "cell_type": "markdown",
   "metadata": {
    "id": "mwojqK5XBG9r"
   },
   "source": [
    "## The Corpus of Linguistic Acceptability (CoLA)\n",
    "\n",
    "The Corpus of Linguistic Acceptability ([CoLA](https://nyu-mll.github.io/CoLA/)) in its full form consists of 10657 sentences from 23 linguistics publications, expertly annotated for acceptability (grammaticality) by their original authors. Native English speakers consistently report a sharp contrast in acceptability between pairs of sentences. \n",
    "Some examples include:\n",
    "\n",
    "`What did Betsy paint a picture of?` (Correct)\n",
    "\n",
    "`What was a picture of painted by Betsy?` (Incorrect)\n",
    "\n",
    "You can read more info about the dataset [here](https://arxiv.org/pdf/1805.12471.pdf). This is a binary classification task (predict 1 for correct grammar and 0 otherwise).\n",
    "\n",
    "We will be using this dataset as a sanity checker for the forward pass of the Transformer architecture discussed in class. The general intuitive notion is that we will _encode_ the sequence of tokens in the sentence, and then predict a binary output based on the final state that is the output of the model."
   ]
  },
  {
   "cell_type": "markdown",
   "metadata": {
    "id": "YD2Nd4UyBG9s"
   },
   "source": [
    "## Load the preprocessed data\n",
    "\n",
    "We've appended a \"CLS\" token to the beginning of each sequence, which can be used to make predictions. The benefit of appending this token to the beginning of the sequence (rather than the end) is that we can extract it quite easily (we don't need to remove paddings and figure out the length of each individual sequence in the batch). We'll come back to this.\n",
    "\n",
    "We've additionally already constructed a vocabulary and converted all of the strings of tokens into integers which can be used for vocabulary lookup for you. Feel free to explore the data here."
   ]
  },
  {
   "cell_type": "code",
   "execution_count": 14,
   "metadata": {
    "id": "MW53-EIuBG9s",
    "tags": []
   },
   "outputs": [
    {
     "name": "stdout",
     "output_type": "stream",
     "text": [
      "Vocabulary Size: 1542\n",
      "(7000, 43)\n",
      "(1551, 43)\n",
      "(7000,)\n",
      "(1551,)\n"
     ]
    }
   ],
   "source": [
    "train_inxs = np.load('./data/train_inxs.npy')\n",
    "val_inxs = np.load('./data/val_inxs.npy')\n",
    "train_labels = np.load('./data/train_labels.npy')\n",
    "val_labels = np.load('./data/val_labels.npy')\n",
    "\n",
    "# load dictionary\n",
    "word_to_ix = {}\n",
    "with open(\"./data/word_to_ix.csv\", \"r\") as f:\n",
    "    reader = csv.reader(f)\n",
    "    for line in reader:\n",
    "        word_to_ix[line[0]] = line[1]\n",
    "print(\"Vocabulary Size:\", len(word_to_ix))\n",
    "        \n",
    "print(train_inxs.shape) # 7000 training instances, of (maximum/padded) length 43 words.\n",
    "print(val_inxs.shape) # 1551 validation instances, of (maximum/padded) length 43 words.\n",
    "print(train_labels.shape)\n",
    "print(val_labels.shape)\n",
    "\n",
    "d1 = torch.load('./data/d1.pt').to(device)\n",
    "d2 = torch.load('./data/d2.pt').to(device)\n",
    "d3 = torch.load('./data/d3.pt').to(device)\n",
    "d4 = torch.load('./data/d4.pt').to(device)"
   ]
  },
  {
   "cell_type": "code",
   "execution_count": 16,
   "metadata": {},
   "outputs": [
    {
     "data": {
      "text/plain": [
       "{'our': '1',\n",
       " 'friends': '2',\n",
       " 'wont': '3',\n",
       " 'buy': '4',\n",
       " 'this': '5',\n",
       " 'let': '6',\n",
       " 'alone': '7',\n",
       " 'the': '8',\n",
       " 'next': '9',\n",
       " 'one': '10',\n",
       " 'we': '11',\n",
       " 'more': '12',\n",
       " 'and': '13',\n",
       " 'im': '14',\n",
       " 'up': '15',\n",
       " 'or': '16',\n",
       " 'study': '17',\n",
       " 'crazier': '18',\n",
       " 'they': '19',\n",
       " 'get': '20',\n",
       " 'day': '21',\n",
       " 'by': '22',\n",
       " 'are': '23',\n",
       " 'getting': '24',\n",
       " 'ill': '25',\n",
       " 'fix': '26',\n",
       " 'you': '27',\n",
       " 'a': '28',\n",
       " 'drink': '29',\n",
       " 'fred': '30',\n",
       " 'plants': '31',\n",
       " 'flat': '32',\n",
       " 'bill': '33',\n",
       " 'coughed': '34',\n",
       " 'his': '35',\n",
       " 'way': '36',\n",
       " 'out': '37',\n",
       " 'of': '38',\n",
       " 'were': '39',\n",
       " 'dancing': '40',\n",
       " 'night': '41',\n",
       " 'away': '42',\n",
       " 'herman': '43',\n",
       " 'metal': '44',\n",
       " 'laughed': '45',\n",
       " 'play': '46',\n",
       " 'off': '47',\n",
       " 'rolled': '48',\n",
       " 'room': '49',\n",
       " 'gardener': '50',\n",
       " 'flowers': '51',\n",
       " 'broke': '52',\n",
       " 'bathtub': '53',\n",
       " 'into': '54',\n",
       " 'drank': '55',\n",
       " 'dry': '56',\n",
       " 'professor': '57',\n",
       " 'talked': '58',\n",
       " 'us': '59',\n",
       " 'ourselves': '60',\n",
       " 'harry': '61',\n",
       " 'himself': '62',\n",
       " 'fit': '63',\n",
       " 'road': '64',\n",
       " 'forest': '65',\n",
       " 'drove': '66',\n",
       " '5': '67',\n",
       " 'from': '68',\n",
       " 'to': '69',\n",
       " 'its': '70',\n",
       " 'john': '71',\n",
       " 'danced': '72',\n",
       " 'across': '73',\n",
       " 'window': '74',\n",
       " 'on': '75',\n",
       " 'floor': '76',\n",
       " 'through': '77',\n",
       " 'kitchen': '78',\n",
       " 'ate': '79',\n",
       " 'easily': '80',\n",
       " 'made': '81',\n",
       " 'him': '82',\n",
       " 'president': '83',\n",
       " 'angry': '84',\n",
       " 'become': '85',\n",
       " 'making': '86',\n",
       " 'exhaustion': '87',\n",
       " 'rumbled': '88',\n",
       " 'down': '89',\n",
       " 'house': '90',\n",
       " 'candidate': '91',\n",
       " 'stairs': '92',\n",
       " 'car': '93',\n",
       " 'dog': '94',\n",
       " 'witch': '95',\n",
       " 'vanished': '96',\n",
       " 'disappeared': '97',\n",
       " 'went': '98',\n",
       " 'building': '99',\n",
       " 'is': '100',\n",
       " 'tall': '101',\n",
       " 'taller': '102',\n",
       " 'than': '103',\n",
       " 'that': '104',\n",
       " 'got': '105',\n",
       " 'floated': '106',\n",
       " 'cave': '107',\n",
       " 'for': '108',\n",
       " 'hours': '109',\n",
       " 'pushed': '110',\n",
       " 'sofa': '111',\n",
       " 'river': '112',\n",
       " 'along': '113',\n",
       " 'hill': '114',\n",
       " 'rope': '115',\n",
       " 'over': '116',\n",
       " 'kept': '117',\n",
       " 'sam': '118',\n",
       " 'cut': '119',\n",
       " 'free': '120',\n",
       " 'finger': '121',\n",
       " 'cried': '122',\n",
       " 'sleep': '123',\n",
       " 'sue': '124',\n",
       " 'hole': '125',\n",
       " 'sang': '126',\n",
       " 'itself': '127',\n",
       " 'ground': '128',\n",
       " 'if': '129',\n",
       " 'it': '130',\n",
       " 'could': '131',\n",
       " 'ring': '132',\n",
       " 'she': '133',\n",
       " 'he': '134',\n",
       " 'awake': '135',\n",
       " 'all': '136',\n",
       " 'nose': '137',\n",
       " 'under': '138',\n",
       " 'bank': '139',\n",
       " 'lake': '140',\n",
       " 'where': '141',\n",
       " 'had': '142',\n",
       " 'their': '143',\n",
       " 'ron': '144',\n",
       " 'yawned': '145',\n",
       " 'herself': '146',\n",
       " 'as': '147',\n",
       " 'her': '148',\n",
       " 'onto': '149',\n",
       " 'chocolate': '150',\n",
       " 'melted': '151',\n",
       " 'ball': '152',\n",
       " 'eat': '153',\n",
       " 'less': '154',\n",
       " 'want': '155',\n",
       " 'when': '156',\n",
       " 'most': '157',\n",
       " 'least': '158',\n",
       " 'angrier': '159',\n",
       " 'gets': '160',\n",
       " 'admires': '161',\n",
       " 'i': '162',\n",
       " 'think': '163',\n",
       " 'not': '164',\n",
       " 'idea': '165',\n",
       " 'obvious': '166',\n",
       " 'clear': '167',\n",
       " 'exactly': '168',\n",
       " 'why': '169',\n",
       " 'eats': '170',\n",
       " 'pay': '171',\n",
       " 'dont': '172',\n",
       " 'harder': '173',\n",
       " 'has': '174',\n",
       " 'rained': '175',\n",
       " 'how': '176',\n",
       " 'much': '177',\n",
       " 'faster': '178',\n",
       " 'flow': '179',\n",
       " 'appears': '180',\n",
       " 'in': '181',\n",
       " 'rains': '182',\n",
       " 'do': '183',\n",
       " 'run': '184',\n",
       " 'see': '185',\n",
       " 'tighter': '186',\n",
       " 'keep': '187',\n",
       " 'your': '188',\n",
       " 'mouth': '189',\n",
       " 'shut': '190',\n",
       " 'about': '191',\n",
       " 'everyone': '192',\n",
       " 'keeps': '193',\n",
       " 'big': '194',\n",
       " 'ok': '195',\n",
       " 'can': '196',\n",
       " 'well': '197',\n",
       " 'imagine': '198',\n",
       " 'eating': '199',\n",
       " 'fatter': '200',\n",
       " 'joe': '201',\n",
       " 'important': '202',\n",
       " 'careful': '203',\n",
       " 'be': '204',\n",
       " 'quickly': '205',\n",
       " 'mary': '206',\n",
       " 'question': '207',\n",
       " 'with': '208',\n",
       " 'listens': '209',\n",
       " 'grateful': '210',\n",
       " 'dead': '211',\n",
       " 'depressed': '212',\n",
       " 'whether': '213',\n",
       " 'looked': '214',\n",
       " 'at': '215',\n",
       " 'pictures': '216',\n",
       " 'higher': '217',\n",
       " 'stakes': '218',\n",
       " 'lower': '219',\n",
       " 'expectations': '220',\n",
       " 'obnoxious': '221',\n",
       " 'attention': '222',\n",
       " 'should': '223',\n",
       " 'always': '224',\n",
       " 'mine': '225',\n",
       " 'was': '226',\n",
       " 'door': '227',\n",
       " 'no': '228',\n",
       " 'matter': '229',\n",
       " 'fancy': '230',\n",
       " 'hotel': '231',\n",
       " 'might': '232',\n",
       " 'plan': '233',\n",
       " 'going': '234',\n",
       " 'says': '235',\n",
       " 'believe': '236',\n",
       " 'food': '237',\n",
       " 'knows': '238',\n",
       " 'man': '239',\n",
       " 'goes': '240',\n",
       " 'doctor': '241',\n",
       " 'bothers': '242',\n",
       " 'books': '243',\n",
       " 'ask': '244',\n",
       " 'whom': '245',\n",
       " 'will': '246',\n",
       " 'give': '247',\n",
       " 'reads': '248',\n",
       " 'people': '249',\n",
       " 'what': '250',\n",
       " 'carefully': '251',\n",
       " 'letter': '252',\n",
       " 'hell': '253',\n",
       " 'meets': '254',\n",
       " 'say': '255',\n",
       " 'tickets': '256',\n",
       " 'happier': '257',\n",
       " 'right': '258',\n",
       " 'after': '259',\n",
       " 'show': '260',\n",
       " 'talk': '261',\n",
       " 'linguistics': '262',\n",
       " 'am': '263',\n",
       " 'sally': '264',\n",
       " 'taught': '265',\n",
       " 'woman': '266',\n",
       " 'really': '267',\n",
       " 'me': '268',\n",
       " 'wonder': '269',\n",
       " 'sooner': '270',\n",
       " 'call': '271',\n",
       " 'know': '272',\n",
       " 'articles': '273',\n",
       " 'fewer': '274',\n",
       " 'thinks': '275',\n",
       " 'go': '276',\n",
       " 'arrive': '277',\n",
       " 'louder': '278',\n",
       " 'beer': '279',\n",
       " 'sick': '280',\n",
       " 'buys': '281',\n",
       " 'becomes': '282',\n",
       " 'arrived': '283',\n",
       " 'train': '284',\n",
       " 'my': '285',\n",
       " 'brother': '286',\n",
       " 'who': '287',\n",
       " 'likes': '288',\n",
       " 'later': '289',\n",
       " 'smokes': '290',\n",
       " 'susan': '291',\n",
       " 'hates': '292',\n",
       " 'far': '293',\n",
       " 'lot': '294',\n",
       " 'once': '295',\n",
       " 'janet': '296',\n",
       " 'left': '297',\n",
       " 'became': '298',\n",
       " 'often': '299',\n",
       " 'does': '300',\n",
       " 'hate': '301',\n",
       " 'so': '302',\n",
       " 'did': '303',\n",
       " 'intelligent': '304',\n",
       " 'ran': '305',\n",
       " 'bought': '306',\n",
       " 'many': '307',\n",
       " 'talks': '308',\n",
       " 'longer': '309',\n",
       " 'appear': '310',\n",
       " 'news': '311',\n",
       " 'embarrassed': '312',\n",
       " 'likely': '313',\n",
       " 'arrested': '314',\n",
       " 'upset': '315',\n",
       " 'them': '316',\n",
       " 'stories': '317',\n",
       " 'seem': '318',\n",
       " 'evening': '319',\n",
       " 'enough': '320',\n",
       " 'opportunity': '321',\n",
       " 'every': '322',\n",
       " 'senator': '323',\n",
       " 'succumb': '324',\n",
       " 'corruption': '325',\n",
       " 'gave': '326',\n",
       " 'sure': '327',\n",
       " 'any': '328',\n",
       " 'lobbyists': '329',\n",
       " 'corrupt': '330',\n",
       " 'seems': '331',\n",
       " 'time': '332',\n",
       " 'solve': '333',\n",
       " 'problem': '334',\n",
       " 'youll': '335',\n",
       " 'satisfy': '336',\n",
       " 'folks': '337',\n",
       " 'corporate': '338',\n",
       " 'headquarters': '339',\n",
       " 'which': '340',\n",
       " 'runs': '341',\n",
       " 'failed': '342',\n",
       " 'tell': '343',\n",
       " 'worked': '344',\n",
       " 'able': '345',\n",
       " 'those': '346',\n",
       " 'just': '347',\n",
       " 'put': '348',\n",
       " 'ice': '349',\n",
       " 'beat': '350',\n",
       " 'saw': '351',\n",
       " 'claimed': '352',\n",
       " 'suspected': '353',\n",
       " 'everybody': '354',\n",
       " 'liked': '355',\n",
       " 'visit': '356',\n",
       " 'couldnt': '357',\n",
       " 'leave': '358',\n",
       " 'hit': '359',\n",
       " 'louise': '360',\n",
       " 'isnt': '361',\n",
       " 'being': '362',\n",
       " 'happy': '363',\n",
       " 'doesnt': '364',\n",
       " 'fire': '365',\n",
       " 'hasnt': '366',\n",
       " 'paid': '367',\n",
       " 'cant': '368',\n",
       " 'seeing': '369',\n",
       " 'have': '370',\n",
       " 'been': '371',\n",
       " 'working': '372',\n",
       " 'marianne': '373',\n",
       " 'cannot': '374',\n",
       " 'must': '375',\n",
       " 'work': '376',\n",
       " 'may': '377',\n",
       " 'wrote': '378',\n",
       " 'write': '379',\n",
       " 'nice': '380',\n",
       " 'thought': '381',\n",
       " 'said': '382',\n",
       " 'solved': '383',\n",
       " 'hired': '384',\n",
       " 'someone': '385',\n",
       " 'heard': '386',\n",
       " 'resigned': '387',\n",
       " 'because': '388',\n",
       " 'wondered': '389',\n",
       " 'picture': '390',\n",
       " 'newspaper': '391',\n",
       " 'magazine': '392',\n",
       " 'but': '393',\n",
       " 'proved': '394',\n",
       " 'jones': '395',\n",
       " 'smith': '396',\n",
       " 'bob': '397',\n",
       " 'vote': '398',\n",
       " 'politician': '399',\n",
       " 'press': '400',\n",
       " 'supported': '401',\n",
       " 'fact': '402',\n",
       " 'elected': '403',\n",
       " 'records': '404',\n",
       " 'met': '405',\n",
       " 'seen': '406',\n",
       " 'sees': '407',\n",
       " 'win': '408',\n",
       " 'consider': '409',\n",
       " 'book': '410',\n",
       " 'works': '411',\n",
       " 'believes': '412',\n",
       " 'guy': '413',\n",
       " 'would': '414',\n",
       " 'trouble': '415',\n",
       " 'garden': '416',\n",
       " 'unlikely': '417',\n",
       " 'come': '418',\n",
       " 'tries': '419',\n",
       " 'innocent': '420',\n",
       " 'prefer': '421',\n",
       " 'stole': '422',\n",
       " 'stolen': '423',\n",
       " 'children': '424',\n",
       " 'kissed': '425',\n",
       " 'kids': '426',\n",
       " 'eaten': '427',\n",
       " 'general': '428',\n",
       " 'understands': '429',\n",
       " 'whats': '430',\n",
       " 'explained': '431',\n",
       " 'sink': '432',\n",
       " 'mickey': '433',\n",
       " 'women': '434',\n",
       " 'gary': '435',\n",
       " 'reading': '436',\n",
       " 'remember': '437',\n",
       " 'there': '438',\n",
       " 'students': '439',\n",
       " 'here': '440',\n",
       " 'havent': '441',\n",
       " 'student': '442',\n",
       " 'need': '443',\n",
       " 'boat': '444',\n",
       " 'sank': '445',\n",
       " 'collect': '446',\n",
       " 'insurance': '447',\n",
       " 'wants': '448',\n",
       " 'bed': '449',\n",
       " 'murderer': '450',\n",
       " 'knew': '451',\n",
       " 'fed': '452',\n",
       " 'believed': '453',\n",
       " 'these': '454',\n",
       " 'like': '455',\n",
       " 'tried': '456',\n",
       " 'try': '457',\n",
       " 'ever': '458',\n",
       " 'an': '459',\n",
       " 'needs': '460',\n",
       " 'understood': '461',\n",
       " 'quite': '462',\n",
       " 'seemed': '463',\n",
       " 'great': '464',\n",
       " 'linguist': '465',\n",
       " 'tonight': '466',\n",
       " 'wanted': '467',\n",
       " 'improve': '468',\n",
       " 'life': '469',\n",
       " 'expected': '470',\n",
       " 'too': '471',\n",
       " 'read': '472',\n",
       " 'sitting': '473',\n",
       " 'serious': '474',\n",
       " 'refused': '475',\n",
       " 'heart': '476',\n",
       " 'fine': '477',\n",
       " 'person': '478',\n",
       " 'hated': '479',\n",
       " 'destroyed': '480',\n",
       " 'electrode': '481',\n",
       " 'ions': '482',\n",
       " 'struck': '483',\n",
       " 'contains': '484',\n",
       " 'box': '485',\n",
       " 'tree': '486',\n",
       " 'dropped': '487',\n",
       " 'fruit': '488',\n",
       " 'stone': '489',\n",
       " 'knocked': '490',\n",
       " 'against': '491',\n",
       " 'pole': '492',\n",
       " 'contained': '493',\n",
       " 'roof': '494',\n",
       " 'fell': '495',\n",
       " 'changed': '496',\n",
       " 'oak': '497',\n",
       " 'maple': '498',\n",
       " 'station': '499',\n",
       " 'branches': '500',\n",
       " 'wall': '501',\n",
       " 'child': '502',\n",
       " 'party': '503',\n",
       " 'crazy': '504',\n",
       " 'came': '505',\n",
       " 'snake': '506',\n",
       " 'hard': '507',\n",
       " 'high': '508',\n",
       " 'passed': '509',\n",
       " 'touched': '510',\n",
       " 'water': '511',\n",
       " 'main': '512',\n",
       " 'circuit': '513',\n",
       " 'fence': '514',\n",
       " 'escaped': '515',\n",
       " 'rolling': '516',\n",
       " 'caught': '517',\n",
       " 'filled': '518',\n",
       " 'received': '519',\n",
       " 'learned': '520',\n",
       " 'parcel': '521',\n",
       " 'cup': '522',\n",
       " 'logs': '523',\n",
       " 'branch': '524',\n",
       " 'apple': '525',\n",
       " 'bottle': '526',\n",
       " 'some': '527',\n",
       " 'lost': '528',\n",
       " 'bubbled': '529',\n",
       " 'force': '530',\n",
       " 'wind': '531',\n",
       " 'break': '532',\n",
       " 'table': '533',\n",
       " 'name': '534',\n",
       " 'loaded': '535',\n",
       " 'bricks': '536',\n",
       " 'truck': '537',\n",
       " 'baby': '538',\n",
       " 'completely': '539',\n",
       " 'paint': '540',\n",
       " 'whole': '541',\n",
       " 'took': '542',\n",
       " 'fool': '543',\n",
       " 'cloth': '544',\n",
       " 'asleep': '545',\n",
       " 'apart': '546',\n",
       " 'very': '547',\n",
       " 'fond': '548',\n",
       " 'ship': '549',\n",
       " 'chair': '550',\n",
       " 'harriet': '551',\n",
       " 'expect': '552',\n",
       " 'fish': '553',\n",
       " 'raw': '554',\n",
       " 'beef': '555',\n",
       " 'cooked': '556',\n",
       " 'told': '557',\n",
       " 'loaned': '558',\n",
       " 'library': '559',\n",
       " 'also': '560',\n",
       " 'different': '561',\n",
       " 'even': '562',\n",
       " 'though': '563',\n",
       " 'persuade': '564',\n",
       " 'didnt': '565',\n",
       " 'french': '566',\n",
       " 'perfectly': '567',\n",
       " 'lines': '568',\n",
       " 'plays': '569',\n",
       " 'violin': '570',\n",
       " 'immediately': '571',\n",
       " 'slowly': '572',\n",
       " 'soon': '573',\n",
       " 'almost': '574',\n",
       " 'clearly': '575',\n",
       " 'probably': '576',\n",
       " 'shot': '577',\n",
       " 'intimately': '578',\n",
       " 'spoke': '579',\n",
       " 'jumped': '580',\n",
       " 'horse': '581',\n",
       " 'last': '582',\n",
       " 'persuaded': '583',\n",
       " 'lions': '584',\n",
       " 'meat': '585',\n",
       " 'men': '586',\n",
       " 'teacher': '587',\n",
       " 'ordered': '588',\n",
       " 'two': '589',\n",
       " 'boys': '590',\n",
       " 'both': '591',\n",
       " 'returned': '592',\n",
       " 'chairs': '593',\n",
       " 'red': '594',\n",
       " 'proud': '595',\n",
       " 'home': '596',\n",
       " 'gone': '597',\n",
       " 'package': '598',\n",
       " 'weighed': '599',\n",
       " '10': '600',\n",
       " 'cost': '601',\n",
       " 'impressed': '602',\n",
       " 'good': '603',\n",
       " 'mother': '604',\n",
       " 'aunt': '605',\n",
       " 'max': '606',\n",
       " 'father': '607',\n",
       " 'promised': '608',\n",
       " 'frank': '609',\n",
       " 'proclaimed': '610',\n",
       " 'public': '611',\n",
       " 'hero': '612',\n",
       " 'represented': '613',\n",
       " 'dean': '614',\n",
       " 'genuine': '615',\n",
       " 'authorities': '616',\n",
       " 'thief': '617',\n",
       " 'beans': '618',\n",
       " 'green': '619',\n",
       " 'themselves': '620',\n",
       " 'love': '621',\n",
       " 'belief': '622',\n",
       " 'loves': '623',\n",
       " 'marys': '624',\n",
       " 'abroad': '625',\n",
       " 'johns': '626',\n",
       " 'loved': '627',\n",
       " 'considered': '628',\n",
       " 'reported': '629',\n",
       " 'certain': '630',\n",
       " 'three': '631',\n",
       " 'alleged': '632',\n",
       " 'kiss': '633',\n",
       " 'park': '634',\n",
       " 'having': '635',\n",
       " 'enjoy': '636',\n",
       " 'taking': '637',\n",
       " 'bath': '638',\n",
       " 'kissing': '639',\n",
       " 'known': '640',\n",
       " 'offer': '641',\n",
       " 'city': '642',\n",
       " 'destruction': '643',\n",
       " 'send': '644',\n",
       " 'drunk': '645',\n",
       " 'only': '646',\n",
       " 'either': '647',\n",
       " 'josé': '648',\n",
       " 'cabbage': '649',\n",
       " 'holly': '650',\n",
       " 'leaving': '651',\n",
       " 'started': '652',\n",
       " 'running': '653',\n",
       " 'street': '654',\n",
       " 'then': '655',\n",
       " 'story': '656',\n",
       " 'vacation': '657',\n",
       " 'bring': '658',\n",
       " 'something': '659',\n",
       " 'asked': '660',\n",
       " 'wear': '661',\n",
       " 'tuxedo': '662',\n",
       " 'decide': '663',\n",
       " 'shouldnt': '664',\n",
       " 'rifles': '665',\n",
       " 'dangerous': '666',\n",
       " 'meeting': '667',\n",
       " 'lilly': '668',\n",
       " 'recounted': '669',\n",
       " 'attempt': '670',\n",
       " 'find': '671',\n",
       " 'while': '672',\n",
       " 'denied': '673',\n",
       " 'won': '674',\n",
       " 'peter': '675',\n",
       " 'played': '676',\n",
       " 'wearing': '677',\n",
       " 'decided': '678',\n",
       " 'lucy': '679',\n",
       " 'mag': '680',\n",
       " 'things': '681',\n",
       " 'sing': '682',\n",
       " 'proof': '683',\n",
       " 'exist': '684',\n",
       " 'visited': '685',\n",
       " 'town': '686',\n",
       " 'country': '687',\n",
       " 'salmon': '688',\n",
       " 'bother': '689',\n",
       " 'uncle': '690',\n",
       " 'lying': '691',\n",
       " 'anything': '692',\n",
       " 'bright': '693',\n",
       " 'although': '694',\n",
       " 'near': '695',\n",
       " 'stood': '696',\n",
       " 'stand': '697',\n",
       " 'discuss': '698',\n",
       " 'report': '699',\n",
       " 'boy': '700',\n",
       " 'girl': '701',\n",
       " 'yesterday': '702',\n",
       " 'truman': '703',\n",
       " 'rusty': '704',\n",
       " 'yourself': '705',\n",
       " 'anyone': '706',\n",
       " 'else': '707',\n",
       " 'order': '708',\n",
       " 'please': '709',\n",
       " 'claim': '710',\n",
       " 'paper': '711',\n",
       " 'money': '712',\n",
       " 'wouldnt': '713',\n",
       " 'done': '714',\n",
       " 'kind': '715',\n",
       " 'thing': '716',\n",
       " 'already': '717',\n",
       " 'solution': '718',\n",
       " 'everything': '719',\n",
       " 'before': '720',\n",
       " 'store': '721',\n",
       " 'today': '722',\n",
       " 'little': '723',\n",
       " 'government': '724',\n",
       " 'trying': '725',\n",
       " 'david': '726',\n",
       " 'eyes': '727',\n",
       " 'information': '728',\n",
       " 'material': '729',\n",
       " 'presented': '730',\n",
       " 'meet': '731',\n",
       " 'marathon': '732',\n",
       " 'writers': '733',\n",
       " 'problems': '734',\n",
       " 'such': '735',\n",
       " 'drugs': '736',\n",
       " 'first': '737',\n",
       " 'helpful': '738',\n",
       " 'blue': '739',\n",
       " 'dress': '740',\n",
       " 'tomatoes': '741',\n",
       " 'europe': '742',\n",
       " 'rich': '743',\n",
       " 'taste': '744',\n",
       " 'named': '745',\n",
       " 'showed': '746',\n",
       " 'few': '747',\n",
       " 'teachers': '748',\n",
       " 'each': '749',\n",
       " 'speaks': '750',\n",
       " 'speak': '751',\n",
       " 'language': '752',\n",
       " 'single': '753',\n",
       " 'corner': '754',\n",
       " 'admire': '755',\n",
       " 'without': '756',\n",
       " 'lady': '757',\n",
       " 'offended': '758',\n",
       " 'invite': '759',\n",
       " 'philosopher': '760',\n",
       " 'wrong': '761',\n",
       " 'relatives': '762',\n",
       " 'die': '763',\n",
       " 'attended': '764',\n",
       " 'seminar': '765',\n",
       " 'half': '766',\n",
       " 'fort': '767',\n",
       " 'lifted': '768',\n",
       " 'together': '769',\n",
       " 'hundred': '770',\n",
       " 'married': '771',\n",
       " 'marry': '772',\n",
       " 'voted': '773',\n",
       " 'five': '774',\n",
       " 'myself': '775',\n",
       " 'queen': '776',\n",
       " 'handsome': '777',\n",
       " 'houses': '778',\n",
       " 'old': '779',\n",
       " 'convinced': '780',\n",
       " 'bad': '781',\n",
       " 'better': '782',\n",
       " 'rat': '783',\n",
       " 'bit': '784',\n",
       " 'chased': '785',\n",
       " 'cat': '786',\n",
       " 'died': '787',\n",
       " 'jean': '788',\n",
       " 'never': '789',\n",
       " 'cats': '790',\n",
       " 'potatoes': '791',\n",
       " 'prescribes': '792',\n",
       " 'height': '793',\n",
       " 'lettering': '794',\n",
       " 'covers': '795',\n",
       " 'reports': '796',\n",
       " 'threw': '797',\n",
       " 'tom': '798',\n",
       " 'whose': '799',\n",
       " 'between': '800',\n",
       " 'difficult': '801',\n",
       " 'called': '802',\n",
       " 'boston': '803',\n",
       " 'somebody': '804',\n",
       " 'polished': '805',\n",
       " 'vase': '806',\n",
       " 'short': '807',\n",
       " 'proposal': '808',\n",
       " 'build': '809',\n",
       " 'found': '810',\n",
       " 'delicious': '811',\n",
       " 'picked': '812',\n",
       " 'speech': '813',\n",
       " 'pleased': '814',\n",
       " 'secret': '815',\n",
       " 'binoculars': '816',\n",
       " 'rain': '817',\n",
       " 'turned': '818',\n",
       " 'figured': '819',\n",
       " 'ann': '820',\n",
       " 'answer': '821',\n",
       " 'sent': '822',\n",
       " 'brought': '823',\n",
       " 'company': '824',\n",
       " 'girls': '825',\n",
       " 'class': '826',\n",
       " 'year': '827',\n",
       " 'drives': '828',\n",
       " 'brave': '829',\n",
       " 'afraid': '830',\n",
       " 'friday': '831',\n",
       " 'wife': '832',\n",
       " 'statement': '833',\n",
       " 'evidence': '834',\n",
       " 'lawyer': '835',\n",
       " 'awful': '836',\n",
       " 'hat': '837',\n",
       " 'phineas': '838',\n",
       " 'behind': '839',\n",
       " 'otto': '840',\n",
       " 'cream': '841',\n",
       " 'pudding': '842',\n",
       " 'tasty': '843',\n",
       " 'amounts': '844',\n",
       " '400000': '845',\n",
       " 'hopes': '846',\n",
       " 'squander': '847',\n",
       " 'make': '848',\n",
       " 'set': '849',\n",
       " 'flying': '850',\n",
       " 'jack': '851',\n",
       " 'days': '852',\n",
       " 'hungry': '853',\n",
       " 'henry': '854',\n",
       " 'nurse': '855',\n",
       " 'tax': '856',\n",
       " 'fellow': '857',\n",
       " 'washed': '858',\n",
       " 'dishes': '859',\n",
       " 'dried': '860',\n",
       " 'whisky': '861',\n",
       " 'heres': '862',\n",
       " 'mike': '863',\n",
       " 'tony': '864',\n",
       " 'movies': '865',\n",
       " 'pick': '866',\n",
       " 'shes': '867',\n",
       " 'now': '868',\n",
       " 'ive': '869',\n",
       " 'skyscraper': '870',\n",
       " 'quonset': '871',\n",
       " 'pregnant': '872',\n",
       " 'sheila': '873',\n",
       " 'definitely': '874',\n",
       " 'grapes': '875',\n",
       " 'exam': '876',\n",
       " 'executed': '877',\n",
       " 'cops': '878',\n",
       " 'wiped': '879',\n",
       " 'back': '880',\n",
       " 'comfortable': '881',\n",
       " 'long': '882',\n",
       " 'warned': '883',\n",
       " 'wash': '884',\n",
       " 'sasha': '885',\n",
       " 'gobbling': '886',\n",
       " 'dumplings': '887',\n",
       " 'reheat': '888',\n",
       " 'peruse': '889',\n",
       " 'contract': '890',\n",
       " 'filing': '891',\n",
       " 'tore': '892',\n",
       " 'extremely': '893',\n",
       " 'boring': '894',\n",
       " 'several': '895',\n",
       " 'guardians': '896',\n",
       " 'employer': '897',\n",
       " 'take': '898',\n",
       " 'slept': '899',\n",
       " 'sister': '900',\n",
       " 'place': '901',\n",
       " 'live': '902',\n",
       " 'id': '903',\n",
       " 'light': '904',\n",
       " 'mixed': '905',\n",
       " 'taken': '906',\n",
       " 'end': '907',\n",
       " 'war': '908',\n",
       " 'use': '909',\n",
       " 'tabs': '910',\n",
       " 'depends': '911',\n",
       " 'wore': '912',\n",
       " 'reporters': '913',\n",
       " 'principal': '914',\n",
       " 'disliked': '915',\n",
       " 'playing': '916',\n",
       " 'piano': '917',\n",
       " 'loudly': '918',\n",
       " 'loud': '919',\n",
       " 'badly': '920',\n",
       " 'tune': '921',\n",
       " 'surprise': '922',\n",
       " 'surprised': '923',\n",
       " 'anna': '924',\n",
       " 'strong': '925',\n",
       " 'true': '926',\n",
       " 'cheese': '927',\n",
       " 'looking': '928',\n",
       " 'given': '929',\n",
       " 'packages': '930',\n",
       " 'possible': '931',\n",
       " 'mailed': '932',\n",
       " 'tomorrow': '933',\n",
       " 'until': '934',\n",
       " 'stopped': '935',\n",
       " 'raining': '936',\n",
       " 'coat': '937',\n",
       " 'herschel': '938',\n",
       " 'throw': '939',\n",
       " 'confuse': '940',\n",
       " 'guards': '941',\n",
       " 'review': '942',\n",
       " 'article': '943',\n",
       " 'chairman': '944',\n",
       " 'friend': '945',\n",
       " 'around': '946',\n",
       " 'sometimes': '947',\n",
       " 'anybody': '948',\n",
       " 'wasnt': '949',\n",
       " 'sun': '950',\n",
       " 'impossible': '951',\n",
       " 'scratched': '952',\n",
       " 'arm': '953',\n",
       " 'police': '954',\n",
       " 'prouder': '955',\n",
       " 'nobody': '956',\n",
       " 'joan': '957',\n",
       " 'shave': '958',\n",
       " 'dick': '959',\n",
       " 'lettuce': '960',\n",
       " 'jim': '961',\n",
       " 'other': '962',\n",
       " 'regret': '963',\n",
       " 'hot': '964',\n",
       " 'seven': '965',\n",
       " 'soldiers': '966',\n",
       " 'ten': '967',\n",
       " 'webster': '968',\n",
       " 'sword': '969',\n",
       " 'same': '970',\n",
       " 'hes': '971',\n",
       " 'usually': '972',\n",
       " 'cuts': '973',\n",
       " 'roger': '974',\n",
       " 'signed': '975',\n",
       " 'earth': '976',\n",
       " 'fly': '977',\n",
       " 'matches': '978',\n",
       " 'doing': '979',\n",
       " 'best': '980',\n",
       " 'sandra': '981',\n",
       " 'bomb': '982',\n",
       " 'knife': '983',\n",
       " 'onions': '984',\n",
       " 'razor': '985',\n",
       " 'plate': '986',\n",
       " 'cookies': '987',\n",
       " 'shaved': '988',\n",
       " 'army': '989',\n",
       " 'open': '990',\n",
       " 'fluffy': '991',\n",
       " 'realize': '992',\n",
       " 'sarah': '993',\n",
       " 'suddenly': '994',\n",
       " 'maxwell': '995',\n",
       " 'prize': '996',\n",
       " 'son': '997',\n",
       " 'happiest': '998',\n",
       " 'hardest': '999',\n",
       " 'snowed': '1000',\n",
       " ...}"
      ]
     },
     "execution_count": 16,
     "metadata": {},
     "output_type": "execute_result"
    }
   ],
   "source": [
    "word_to_ix"
   ]
  },
  {
   "cell_type": "markdown",
   "metadata": {
    "id": "q3iZpWUoBG9s"
   },
   "source": [
    "Instead of using numpy for this model, we will be using Pytorch to implement the forward pass. You will not need to implement the backward pass for the various layers in this assigment.\n",
    "\n",
    "The file `models/Transformer.py` contains the model class and methods for each layer. This is where you will write your implementations."
   ]
  },
  {
   "cell_type": "markdown",
   "metadata": {
    "id": "ioLWoxKDBG9s"
   },
   "source": [
    "## **4.1: Embeddings**\n",
    "\n",
    "We will format our input embeddings similarly to how they are constructed in [BERT (source of figure)](https://arxiv.org/pdf/1810.04805.pdf). Recall from lecture that unlike a RNN, a Transformer does not include any positional information about the order in which the words in the sentence occur. Because of this, we need to append a positional encoding token at each position. (We will ignore the segment embeddings and [SEP] token here, since we are only encoding one sentence at a time). We have already appended the [CLS] token for you in the previous step.\n",
    "<center><img src=\"imgs/embedding.png\" align=\"center\"/></center>\n",
    "\n",
    "Your first task is to implement the embedding lookup, including the addition of positional encodings. Open the file `Transformer.py` and complete all code parts for `Deliverable 1`."
   ]
  },
  {
   "cell_type": "code",
   "execution_count": null,
   "metadata": {
    "id": "bV9Hyhh6BG9t"
   },
   "outputs": [],
   "source": [
    "from models.Transformer import TransformerTranslator\n",
    "inputs = train_inxs[0:2]\n",
    "inputs = torch.LongTensor(inputs).to(device)\n",
    "\n",
    "model = TransformerTranslator(input_size=len(word_to_ix), output_size=2, device=device, hidden_dim=128, num_heads=2, dim_feedforward=2048, dim_k=96, dim_v=96, dim_q=96, max_length=train_inxs.shape[1])\n",
    "model.to(device)\n",
    "\n",
    "embeds = model.embed(inputs)\n",
    "\n",
    "try:\n",
    "    print(\"Difference:\", torch.sum(torch.pairwise_distance(embeds, d1)).item()) # should be very small (<0.01)\n",
    "except:\n",
    "    print(\"NOT IMPLEMENTED\")"
   ]
  },
  {
   "cell_type": "markdown",
   "metadata": {
    "id": "KNKYu9HcBG9t"
   },
   "source": [
    "## **4.2: Multi-head Self-Attention**\n",
    "\n",
    "Attention can be computed in matrix-form using the following formula:\n",
    "<center><img src=\"imgs/attn.png\" align=\"center\"/></center>\n",
    "\n",
    "We want to have multiple self-attention operations, computed in parallel. Each of these is called a *head*. We concatenate the heads and multiply them with the matrix `attention_head_projection` to produce the output of this layer.\n",
    "\n",
    "After every multi-head self-attention and feedforward layer, there is a residual connection + layer normalization. Make sure to implement this, using the following formula: \n",
    "<center><img src=\"imgs/layer_norm.png\" align=\"center\"/></center>\n",
    "\n",
    "\n",
    "Open the file `models/transformer.py` and implement the `multihead_attention` function. \n",
    "We have already initialized all of the layers you will need in the constructor."
   ]
  },
  {
   "cell_type": "code",
   "execution_count": null,
   "metadata": {
    "id": "6Ue4o-HCBG9t"
   },
   "outputs": [],
   "source": [
    "hidden_states = model.multi_head_attention(embeds)\n",
    "\n",
    "try:\n",
    "    print(\"Difference:\", torch.sum(torch.pairwise_distance(hidden_states, d2)).item()) # should be very small (<0.01)\n",
    "except:\n",
    "    print(\"NOT IMPLEMENTED\")"
   ]
  },
  {
   "cell_type": "markdown",
   "metadata": {
    "id": "8eXmffMTBG9t"
   },
   "source": [
    "## **4.3: Element-Wise Feed-forward Layer**\n",
    "\n",
    "Open the file `models/transformer.py` and complete code for `Deliverable 3`: the element-wise feed-forward layer consisting of two linear transformers with a ReLU layer in between.\n",
    "\n",
    "<center><img src=\"imgs/ffn.png\" align=\"center\"/></center>\n"
   ]
  },
  {
   "cell_type": "code",
   "execution_count": null,
   "metadata": {
    "id": "dvA5hrDnBG9t"
   },
   "outputs": [],
   "source": [
    "outputs = model.feedforward_layer(hidden_states)\n",
    "\n",
    "try:\n",
    "    print(\"Difference:\", torch.sum(torch.pairwise_distance(outputs, d3)).item()) # should be very small (<0.01)\n",
    "except:\n",
    "    print(\"NOT IMPLEMENTED\")"
   ]
  },
  {
   "cell_type": "markdown",
   "metadata": {
    "id": "wqi9qz3sBG9u"
   },
   "source": [
    "## **4.4: Final Layer**\n",
    "\n",
    "Open the file `models/transformer.py` and complete code for `Deliverable 4`, to produce probability scores for all tokens in target language."
   ]
  },
  {
   "cell_type": "code",
   "execution_count": null,
   "metadata": {
    "id": "0gO5UyP5BG9u"
   },
   "outputs": [],
   "source": [
    "scores = model.final_layer(outputs)\n",
    "\n",
    "try:\n",
    "    print(\"Difference:\", torch.sum(torch.pairwise_distance(scores, d4)).item()) # should be very small (<1e-5)\n",
    "except:\n",
    "    print(\"NOT IMPLEMENTED\")"
   ]
  },
  {
   "cell_type": "markdown",
   "metadata": {
    "id": "jjUMgVwNBG9u"
   },
   "source": [
    "## **4.5: Putting it all together**\n",
    "\n",
    "Open the file `models/transformer.py` and complete the method `forward`, by putting together all of the methods you have developed in the right order to perform a full forward pass.\n"
   ]
  },
  {
   "cell_type": "code",
   "execution_count": null,
   "metadata": {
    "id": "vvDAs6ogBG9u"
   },
   "outputs": [],
   "source": [
    "inputs = train_inxs[0:2]\n",
    "inputs = torch.LongTensor(inputs).to(device)\n",
    "\n",
    "outputs = model.forward(inputs)\n",
    "\n",
    "try:\n",
    "    print(\"Difference:\", torch.sum(torch.pairwise_distance(outputs, scores)).item()) # should be very small (<1e-5)\n",
    "except:\n",
    "    print(\"NOT IMPLEMENTED\")"
   ]
  },
  {
   "cell_type": "markdown",
   "metadata": {
    "id": "1Y16TZtVBG9u"
   },
   "source": [
    "Great! We've just implemented a Transformer forward pass for translation. One of the big perks of using PyTorch is that with a simple training loop, we can rely on automatic differentation ([autograd](https://pytorch.org/tutorials/beginner/blitz/autograd_tutorial.html)) to do the work of the backward pass for us. This is not required for this assignment, but you can explore this on your own."
   ]
  },
  {
   "cell_type": "markdown",
   "metadata": {
    "id": "dVmzOUn6BG9u"
   },
   "source": [
    "## **4.6: Train the Transformer**\n",
    "\n",
    "Now, we will extend your Transformer classifier to perform translation. \n",
    "\n",
    "For simplicity, we have reduced the seq2seq translation problem to a token-for-token classification problem. The encoder will predict tokens of the target language. Hence, that this is _not_ a real translation model like the seq2seq model from part 1. But as you will see, the Transformer can still learn to produce fluent text (with low perplexity). Also note that the BLEU score is a more typical metric for evaluating translations. Here, we use perplexity which is a language modeling metric for fluency.\n",
    "\n",
    "Now you can start training the Transformer translator. We provided you with some training code and you can simply run them to see how your translator works. If you implemented everything correctly, you should see some meaningful translation in the output. Compare the results from the Seq2Seq model, which one is better? You can modify the hyperparameters to improve the results. You can also tune the BATCH_SIZE in section 1.2."
   ]
  },
  {
   "cell_type": "code",
   "execution_count": null,
   "metadata": {
    "id": "DgWomX8hBG9v"
   },
   "outputs": [],
   "source": [
    "# Hyperparameters\n",
    "learning_rate = 1e-1\n",
    "EPOCHS = 10\n",
    "\n",
    "# Model\n",
    "trans_model = TransformerTranslator(input_size, output_size, device, max_length = MAX_LEN).to(device)\n",
    "\n",
    "# optimizer = optim.Adam(model.parameters(), lr = learning_rate)\n",
    "optimizer = torch.optim.Adam(trans_model.parameters(), lr=learning_rate)\n",
    "scheduler = torch.optim.lr_scheduler.ReduceLROnPlateau(optimizer)\n",
    "criterion = nn.CrossEntropyLoss(ignore_index=PAD_IDX)"
   ]
  },
  {
   "cell_type": "code",
   "execution_count": null,
   "metadata": {
    "id": "4ieTsRSTBG9v"
   },
   "outputs": [],
   "source": [
    "for epoch_idx in range(EPOCHS):\n",
    "    print(\"-----------------------------------\")\n",
    "    print(\"Epoch %d\" % (epoch_idx+1))\n",
    "    print(\"-----------------------------------\")\n",
    "    \n",
    "    train_loss, avg_train_loss = train(trans_model, train_loader, optimizer, criterion)\n",
    "    scheduler.step(train_loss)\n",
    "\n",
    "    val_loss, avg_val_loss = evaluate(trans_model, valid_loader, criterion)\n",
    "\n",
    "    avg_train_loss = avg_train_loss.item()\n",
    "    avg_val_loss = avg_val_loss.item()\n",
    "    print(\"Training Loss: %.4f. Validation Loss: %.4f. \" % (avg_train_loss, avg_val_loss))\n",
    "    print(\"Training Perplexity: %.4f. Validation Perplexity: %.4f. \" % (np.exp(avg_train_loss), np.exp(avg_val_loss)))"
   ]
  },
  {
   "cell_type": "markdown",
   "metadata": {
    "id": "VSwBRkIGBG9v"
   },
   "source": [
    "**Translations**\n",
    "\n",
    "Run the code below to see some of your translations. Modify to your liking."
   ]
  },
  {
   "cell_type": "code",
   "execution_count": null,
   "metadata": {
    "id": "CNV9grChBG9v"
   },
   "outputs": [],
   "source": [
    "def translate(model, dataloader):\n",
    "    model.eval()\n",
    "    with torch.no_grad():\n",
    "        # Get the progress bar \n",
    "        progress_bar = tqdm(dataloader, ascii = True)\n",
    "        for batch_idx, data in enumerate(progress_bar):\n",
    "            source = data.src.transpose(1,0)\n",
    "            target = data.trg.transpose(1,0)\n",
    "\n",
    "            translation = model(source)\n",
    "            return target, translation"
   ]
  },
  {
   "cell_type": "code",
   "execution_count": null,
   "metadata": {
    "id": "0IPFfLFABG9v"
   },
   "outputs": [],
   "source": [
    "# Select Transformer or Seq2Seq model\n",
    "# model = trans_model\n",
    "model = seq2seq_model"
   ]
  },
  {
   "cell_type": "code",
   "execution_count": null,
   "metadata": {
    "id": "0_OoZZ7nBG9w"
   },
   "outputs": [],
   "source": [
    "#Set model equal to trans_model or seq2seq_model\n",
    "target, translation = translate(model, valid_loader)"
   ]
  },
  {
   "cell_type": "code",
   "execution_count": null,
   "metadata": {
    "id": "8zeMIyRLBG9w"
   },
   "outputs": [],
   "source": [
    "raw = np.array([list(map(lambda x: TRG.vocab.itos[x], target[i])) for i in range(target.shape[0])])\n",
    "print(raw)"
   ]
  },
  {
   "cell_type": "code",
   "execution_count": null,
   "metadata": {
    "id": "iHcUI8w1BG9w"
   },
   "outputs": [],
   "source": [
    "token_trans = np.argmax(translation.cpu().numpy(), axis = 2)\n",
    "translated = np.array([list(map(lambda x: TRG.vocab.itos[x], token_trans[i])) for i in range(token_trans.shape[0])])\n",
    "print(translated)"
   ]
  }
 ],
 "metadata": {
  "colab": {
   "collapsed_sections": [
    "I7mygObbBG9l",
    "7BncWGdiBG9m",
    "edOA3_zVBG9m",
    "xXVCAISbBG9n",
    "mwojqK5XBG9r",
    "YD2Nd4UyBG9s",
    "ioLWoxKDBG9s",
    "KNKYu9HcBG9t",
    "8eXmffMTBG9t",
    "wqi9qz3sBG9u",
    "jjUMgVwNBG9u"
   ],
   "name": "Machine_Translation.ipynb",
   "private_outputs": true,
   "provenance": [],
   "toc_visible": true
  },
  "kernelspec": {
   "display_name": "Python 3",
   "language": "python",
   "name": "python3"
  },
  "language_info": {
   "codemirror_mode": {
    "name": "ipython",
    "version": 3
   },
   "file_extension": ".py",
   "mimetype": "text/x-python",
   "name": "python",
   "nbconvert_exporter": "python",
   "pygments_lexer": "ipython3",
   "version": "3.6.8"
  }
 },
 "nbformat": 4,
 "nbformat_minor": 1
}
